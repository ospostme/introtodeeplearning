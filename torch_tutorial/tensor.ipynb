{
 "cells": [
  {
   "cell_type": "code",
   "execution_count": 1,
   "id": "ec10f600-a7d7-4596-9f31-c5bcc457ba96",
   "metadata": {
    "lines_to_next_cell": 2
   },
   "outputs": [
    {
     "name": "stdout",
     "output_type": "stream",
     "text": [
      "PyTorch version    : 2.0.1+cu117\n",
      "Torchvision version: 0.15.2+cu117\n",
      "Torchaudio version : 2.0.2+cu117\n",
      "CUDA version       : 11.7\n",
      "cuDNN version      : 8500\n",
      "NumPy version      : 1.24.4\n",
      "torch.accelerator is NOT available\n",
      "\n",
      "Selected device    : cuda\n"
     ]
    }
   ],
   "source": [
    "import torch\n",
    "import torchvision\n",
    "import torchaudio\n",
    "import numpy as np\n",
    "\n",
    "\n",
    "print(\"PyTorch version    :\", torch.__version__)\n",
    "print(\"Torchvision version:\", torchvision.__version__)\n",
    "print(\"Torchaudio version :\", torchaudio.__version__)\n",
    "print(\"CUDA version       :\", torch.version.cuda)\n",
    "print(\"cuDNN version      :\", torch.backends.cudnn.version())\n",
    "print(\"NumPy version      :\", np.__version__)\n",
    "\n",
    "\n",
    "if hasattr(torch, 'accelerator'):\n",
    "    print(\"torch.accelerator is available\\n\")\n",
    "    device = torch.accelerator.current_accelerator() if torch.accelerator.is_available() else \"cpu\"\n",
    "else:\n",
    "    print(\"torch.accelerator is NOT available\\n\")\n",
    "    if torch.backends.mps.is_available():\n",
    "        device = \"mps\"\n",
    "    elif torch.cuda.is_available():\n",
    "        device = \"cuda\"\n",
    "    else:\n",
    "        device = \"cpu\"\n",
    "\n",
    "print(\"Selected device    :\", device)\n"
   ]
  },
  {
   "cell_type": "code",
   "execution_count": 2,
   "id": "4945166d-ea53-417c-8554-587c33b4bd83",
   "metadata": {
    "lines_to_next_cell": 2
   },
   "outputs": [
    {
     "name": "stdout",
     "output_type": "stream",
     "text": [
      "Tensor: \n",
      " tensor([[1, 2],\n",
      "        [3, 4]]) \n",
      "\n",
      "Numpy array: \n",
      " [[1 2]\n",
      " [3 4]] \n",
      "\n"
     ]
    }
   ],
   "source": [
    "data = [[1, 2], [3, 4]]\n",
    "\n",
    "x_data = torch.tensor(data)\n",
    "\n",
    "print(f\"Tensor: \\n {x_data} \\n\")\n",
    "\n",
    "np_array = np.array(data)\n",
    "\n",
    "print(f\"Numpy array: \\n {np_array} \\n\")"
   ]
  },
  {
   "cell_type": "code",
   "execution_count": 3,
   "id": "c12ddfaa-7f2a-4811-a08f-b78e9dc5e366",
   "metadata": {},
   "outputs": [
    {
     "name": "stdout",
     "output_type": "stream",
     "text": [
      "Ones tensor: \n",
      " tensor([[1, 1],\n",
      "        [1, 1]]) \n",
      "\n",
      "rand tensor: \n",
      " tensor([[0.1694, 0.3297],\n",
      "        [0.2206, 0.8301]]) \n",
      "\n",
      "tensor from numpy: \n",
      " tensor([[1, 2],\n",
      "        [3, 4]]) \n",
      "\n"
     ]
    }
   ],
   "source": [
    "\n",
    "x_ones = torch.ones_like(x_data)\n",
    "print(f\"Ones tensor: \\n {x_ones} \\n\")\n",
    "\n",
    "x_rand = torch.rand_like(x_data, dtype=torch.float)\n",
    "print(f\"rand tensor: \\n {x_rand} \\n\")\n",
    "\n",
    "x_from_numpy = torch.from_numpy(np_array)\n",
    "print(f\"tensor from numpy: \\n {x_from_numpy} \\n\")\n"
   ]
  },
  {
   "cell_type": "code",
   "execution_count": 4,
   "id": "0066b54e",
   "metadata": {
    "lines_to_next_cell": 2
   },
   "outputs": [
    {
     "name": "stdout",
     "output_type": "stream",
     "text": [
      "Tensor is on: \n",
      " cuda:0 \n",
      "\n"
     ]
    }
   ],
   "source": [
    "\n",
    "x_ones = x_ones.to(device)\n",
    "print(f\"Tensor is on: \\n {x_ones.device} \\n\")\n",
    "\n"
   ]
  },
  {
   "cell_type": "code",
   "execution_count": 5,
   "id": "96809dd5",
   "metadata": {
    "lines_to_next_cell": 2
   },
   "outputs": [
    {
     "name": "stdout",
     "output_type": "stream",
     "text": [
      "tensor([[1., 0., 1., 1.],\n",
      "        [1., 0., 1., 1.],\n",
      "        [1., 0., 1., 1.],\n",
      "        [1., 0., 1., 1.]])\n",
      "tensor([[1., 0., 1., 1.],\n",
      "        [1., 0., 1., 1.],\n",
      "        [1., 0., 1., 1.],\n",
      "        [1., 0., 1., 1.],\n",
      "        [1., 0., 1., 1.],\n",
      "        [1., 0., 1., 1.],\n",
      "        [1., 0., 1., 1.],\n",
      "        [1., 0., 1., 1.],\n",
      "        [1., 0., 1., 1.],\n",
      "        [1., 0., 1., 1.],\n",
      "        [1., 0., 1., 1.],\n",
      "        [1., 0., 1., 1.]])\n"
     ]
    }
   ],
   "source": [
    "\n",
    "tensor = torch.ones(4, 4)\n",
    "tensor[:, 1] = 0\n",
    "\n",
    "print(tensor)\n",
    "\n",
    "t0 = torch.cat([tensor, tensor, tensor], dim = 0)\n",
    "print(t0)\n",
    "\n"
   ]
  },
  {
   "cell_type": "code",
   "execution_count": 6,
   "id": "9ad521dc",
   "metadata": {},
   "outputs": [
    {
     "name": "stdout",
     "output_type": "stream",
     "text": [
      "tensor([[1., 0., 1., 1., 1., 0., 1., 1., 1., 0., 1., 1.],\n",
      "        [1., 0., 1., 1., 1., 0., 1., 1., 1., 0., 1., 1.],\n",
      "        [1., 0., 1., 1., 1., 0., 1., 1., 1., 0., 1., 1.],\n",
      "        [1., 0., 1., 1., 1., 0., 1., 1., 1., 0., 1., 1.]])\n"
     ]
    }
   ],
   "source": [
    "\n",
    "t1 = torch.cat([tensor, tensor, tensor], dim = 1)\n",
    "print(t1)\n"
   ]
  },
  {
   "cell_type": "code",
   "execution_count": 7,
   "id": "6067369b",
   "metadata": {
    "lines_to_next_cell": 2
   },
   "outputs": [
    {
     "name": "stdout",
     "output_type": "stream",
     "text": [
      "tensor.mul(tensor) element wise multiply : \n",
      " tensor([[1., 0., 1., 1.],\n",
      "        [1., 0., 1., 1.],\n",
      "        [1., 0., 1., 1.],\n",
      "        [1., 0., 1., 1.]]) \n",
      "\n"
     ]
    }
   ],
   "source": [
    "\n",
    "print(f\"tensor.mul(tensor) element wise multiply : \\n {tensor.mul(tensor)} \\n\")\n",
    "\n"
   ]
  },
  {
   "cell_type": "code",
   "execution_count": 8,
   "id": "1d082780",
   "metadata": {
    "lines_to_next_cell": 0
   },
   "outputs": [
    {
     "name": "stdout",
     "output_type": "stream",
     "text": [
      "tensor * tensor \n",
      " tensor([[1., 0., 1., 1.],\n",
      "        [1., 0., 1., 1.],\n",
      "        [1., 0., 1., 1.],\n",
      "        [1., 0., 1., 1.]])\n"
     ]
    }
   ],
   "source": [
    "# Alternative syntax for element wise multiply :\n",
    "\n",
    "print(f\"tensor * tensor \\n {tensor * tensor}\")\n",
    "\n"
   ]
  },
  {
   "cell_type": "code",
   "execution_count": 9,
   "id": "53bf61b7",
   "metadata": {
    "lines_to_next_cell": 0
   },
   "outputs": [
    {
     "name": "stdout",
     "output_type": "stream",
     "text": [
      "tensor.matmul(tensor.T) matrix multiply : \n",
      " tensor([[3., 3., 3., 3.],\n",
      "        [3., 3., 3., 3.],\n",
      "        [3., 3., 3., 3.],\n",
      "        [3., 3., 3., 3.]]) \n",
      "\n"
     ]
    }
   ],
   "source": [
    "# matrix multiplication\n",
    "\n",
    "print(f\"tensor.matmul(tensor.T) matrix multiply : \\n {tensor.matmul(tensor.T)} \\n\")\n",
    "\n"
   ]
  },
  {
   "cell_type": "code",
   "execution_count": 10,
   "id": "59b345d0",
   "metadata": {
    "lines_to_next_cell": 2
   },
   "outputs": [
    {
     "name": "stdout",
     "output_type": "stream",
     "text": [
      "tensor @ tensor.T \n",
      " tensor([[3., 3., 3., 3.],\n",
      "        [3., 3., 3., 3.],\n",
      "        [3., 3., 3., 3.],\n",
      "        [3., 3., 3., 3.]])\n"
     ]
    }
   ],
   "source": [
    "# Alternative syntax for matrix multiply : \n",
    "print(f\"tensor @ tensor.T \\n {tensor @ tensor.T}\")\n"
   ]
  },
  {
   "cell_type": "markdown",
   "id": "a9036025",
   "metadata": {},
   "source": [
    "In-place operations Operations that have a _ suffix are in-place. For example: x.copy_(y), x.t_(), will change x."
   ]
  },
  {
   "cell_type": "code",
   "execution_count": 11,
   "id": "9f0fb9c6",
   "metadata": {
    "lines_to_next_cell": 0
   },
   "outputs": [
    {
     "name": "stdout",
     "output_type": "stream",
     "text": [
      "tensor([[1., 0., 1., 1.],\n",
      "        [1., 0., 1., 1.],\n",
      "        [1., 0., 1., 1.],\n",
      "        [1., 0., 1., 1.]]) \n",
      "\n",
      "tensor([[6., 5., 6., 6.],\n",
      "        [6., 5., 6., 6.],\n",
      "        [6., 5., 6., 6.],\n",
      "        [6., 5., 6., 6.]])\n"
     ]
    }
   ],
   "source": [
    "\n",
    "print(tensor, \"\\n\")\n",
    "tensor.add_(5)\n",
    "print(tensor)\n",
    "\n",
    "\n",
    "\n",
    "\n"
   ]
  },
  {
   "cell_type": "markdown",
   "id": "cf809c60",
   "metadata": {},
   "source": []
  }
 ],
 "metadata": {
  "kernelspec": {
   "display_name": "torch2.0",
   "language": "python",
   "name": "torch2.0"
  },
  "language_info": {
   "codemirror_mode": {
    "name": "ipython",
    "version": 3
   },
   "file_extension": ".py",
   "mimetype": "text/x-python",
   "name": "python",
   "nbconvert_exporter": "python",
   "pygments_lexer": "ipython3",
   "version": "3.10.18"
  }
 },
 "nbformat": 4,
 "nbformat_minor": 5
}
