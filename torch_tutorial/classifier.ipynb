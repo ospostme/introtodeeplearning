{
 "cells": [
  {
   "cell_type": "code",
   "execution_count": 1,
   "id": "75780104-2829-40c5-ad55-df9d3ba6b702",
   "metadata": {
    "lines_to_next_cell": 2
   },
   "outputs": [
    {
     "name": "stdout",
     "output_type": "stream",
     "text": [
      "PyTorch version    : 1.13.1+cu117\n",
      "Torchvision version: 0.14.1+cu117\n",
      "Torchaudio version : 0.13.1+cu117\n",
      "CUDA version       : 11.7\n",
      "cuDNN version      : 8500\n",
      "NumPy version      : 1.24.4\n",
      "torch.accelerator is NOT available\n",
      "\n",
      "Selected device    : cuda\n"
     ]
    }
   ],
   "source": [
    "import torch\n",
    "import torchvision\n",
    "import torchvision.transforms as transforms\n",
    "import torchaudio\n",
    "import numpy as np\n",
    "\n",
    "\n",
    "print(\"PyTorch version    :\", torch.__version__)\n",
    "print(\"Torchvision version:\", torchvision.__version__)\n",
    "print(\"Torchaudio version :\", torchaudio.__version__)\n",
    "print(\"CUDA version       :\", torch.version.cuda)\n",
    "print(\"cuDNN version      :\", torch.backends.cudnn.version())\n",
    "print(\"NumPy version      :\", np.__version__)\n",
    "\n",
    "\n",
    "if hasattr(torch, 'accelerator'):\n",
    "    print(\"torch.accelerator is available\\n\")\n",
    "    device = torch.accelerator.current_accelerator() if torch.accelerator.is_available() else \"cpu\"\n",
    "else:\n",
    "    print(\"torch.accelerator is NOT available\\n\")\n",
    "    if torch.backends.mps.is_available():\n",
    "        device = \"mps\"\n",
    "    elif torch.cuda.is_available():\n",
    "        device = \"cuda\"\n",
    "    else:\n",
    "        device = \"cpu\"\n",
    "\n",
    "print(\"Selected device    :\", device)"
   ]
  },
  {
   "cell_type": "code",
   "execution_count": 2,
   "id": "999f7a98-ba79-40af-a385-b198ae6ecaeb",
   "metadata": {
    "lines_to_next_cell": 2
   },
   "outputs": [
    {
     "name": "stdout",
     "output_type": "stream",
     "text": [
      "Files already downloaded and verified\n",
      "Files already downloaded and verified\n"
     ]
    }
   ],
   "source": [
    "#device = torch.accelerator.current_accelerator() if torch.accelerator.is_available() else \"cpu\"\n",
    "\n",
    "transform = transforms.Compose(\n",
    "    [transforms.ToTensor(),\n",
    "     transforms.Normalize((0.5, 0.5, 0.5), (0.5, 0.5, 0.5))])\n",
    "\n",
    "batch_size = 4\n",
    "\n",
    "trainset = torchvision.datasets.CIFAR10(root='./data', train=True,\n",
    "                                        download=True, transform=transform)\n",
    "trainloader = torch.utils.data.DataLoader(trainset, batch_size=batch_size,\n",
    "                                          shuffle=True, num_workers=2)\n",
    "\n",
    "testset = torchvision.datasets.CIFAR10(root='./data', train=False,\n",
    "                                       download=True, transform=transform)\n",
    "testloader = torch.utils.data.DataLoader(testset, batch_size=batch_size,\n",
    "                                         shuffle=False, num_workers=2)\n",
    "\n",
    "classes = ('plane', 'car', 'bird', 'cat',\n",
    "           'deer', 'dog', 'frog', 'horse', 'ship', 'truck')"
   ]
  },
  {
   "cell_type": "code",
   "execution_count": 6,
   "id": "d48a3b4c",
   "metadata": {
    "lines_to_next_cell": 2
   },
   "outputs": [
    {
     "name": "stdout",
     "output_type": "stream",
     "text": [
      "torch.Size([4, 3, 32, 32])\n"
     ]
    },
    {
     "data": {
      "image/png": "[encoded data removed]",
      "text/plain": [
       "<Figure size 640x480 with 1 Axes>"
      ]
     },
     "metadata": {},
     "output_type": "display_data"
    },
    {
     "name": "stdout",
     "output_type": "stream",
     "text": [
      "car   dog   horse bird \n"
     ]
    }
   ],
   "source": [
    "#!pip install matplotlib\n",
    "import matplotlib.pyplot as plt\n",
    "import numpy as np\n",
    "\n",
    "# functions to show an image\n",
    "\n",
    "\n",
    "def imshow(img):\n",
    "    img = img / 2 + 0.5     # unnormalize\n",
    "    npimg = img.numpy()\n",
    "    #This reorders the dimensions from (C, H, W) - PyTorch's channel-first format - to (H, W, C) which matplotlib's `imshow()` expects.\n",
    "    # Move the first column to last\n",
    "\n",
    "    plt.imshow(np.transpose(npimg, (1, 2, 0)))\n",
    "\n",
    "    plt.show()\n",
    "\n",
    "\n",
    "# get some random training images\n",
    "dataiter = iter(trainloader)\n",
    "images, labels = next(dataiter)\n",
    "\n",
    "# Confirm : batch size = 4, channel = 3,  image size 32 * 32\n",
    "print(images.shape)\n",
    "\n",
    "# show images\n",
    "imshow(torchvision.utils.make_grid(images))\n",
    "# print labels\n",
    "print(' '.join(f'{classes[labels[j]]:5s}' for j in range(batch_size)))\n"
   ]
  },
  {
   "cell_type": "code",
   "execution_count": 7,
   "id": "7289fc50",
   "metadata": {
    "lines_to_next_cell": 2
   },
   "outputs": [
    {
     "data": {
      "text/plain": [
       "Classifier(\n",
       "  (conv1): Conv2d(3, 6, kernel_size=(5, 5), stride=(1, 1))\n",
       "  (pool): MaxPool2d(kernel_size=2, stride=2, padding=0, dilation=1, ceil_mode=False)\n",
       "  (conv2): Conv2d(6, 16, kernel_size=(5, 5), stride=(1, 1))\n",
       "  (fc1): Linear(in_features=400, out_features=120, bias=True)\n",
       "  (fc2): Linear(in_features=120, out_features=84, bias=True)\n",
       "  (fc3): Linear(in_features=84, out_features=10, bias=True)\n",
       ")"
      ]
     },
     "execution_count": 7,
     "metadata": {},
     "output_type": "execute_result"
    }
   ],
   "source": [
    "import torch.nn as nn\n",
    "import torch.nn.functional as F\n",
    "\n",
    "\n",
    "class Classifier(nn.Module):\n",
    "    def __init__(self):\n",
    "        super().__init__()\n",
    "        # input channel, output channel (num of filter), kernel size\n",
    "        # 4, 3 32 32\n",
    "        # I + 2p - k = 32 + 2*0 - 5 = 27   27/stride + 1 = 28\n",
    "        self.conv1 = nn.Conv2d(3, 6, 5)\n",
    "        # 6, 28, 28 \n",
    "        self.pool = nn.MaxPool2d(2, 2)\n",
    "        # 6, 14, 14 \n",
    "        # I + 2P - k = 14 + 2*0 - 5 = 9\n",
    "        # 9/stride + 1 = 10\n",
    "        # output 16, 10, 10\n",
    "        # pool again :  16, 5, 5\n",
    "        self.conv2 = nn.Conv2d(6, 16, 5)\n",
    "\n",
    "        self.fc1 = nn.Linear(16 * 5 * 5, 120)\n",
    "        self.fc2 = nn.Linear(120, 84)\n",
    "        self.fc3 = nn.Linear(84, 10)\n",
    "\n",
    "\n",
    "    def forward(self, x):\n",
    "\n",
    "        c1 = F.relu(self.conv1(x))\n",
    "        s2 = self.pool(c1)\n",
    "        c3 = F.relu(self.conv2(s2))\n",
    "        s4 = self.pool(c3)\n",
    "        s4 = torch.flatten(s4, 1)\n",
    "        f5 = F.relu(self.fc1(s4))\n",
    "        f6 = F.relu(self.fc2(f5))\n",
    "        f7 = self.fc3(f6)\n",
    "\n",
    "        output = f7\n",
    "\n",
    "        return output\n",
    "\n",
    "\n",
    "net = Classifier()\n",
    "net.to(device)\n",
    "\n"
   ]
  },
  {
   "cell_type": "markdown",
   "id": "566f40e0",
   "metadata": {},
   "source": [
    "> Momentum Insight:\n",
    "> Momentum helps in smoothing out the updates, especially in scenarios where the\n",
    "> gradient direction keeps changing (e.g., ravines or valleys in the loss\n",
    "> surface). A momentum of 0.9 means that 90% of the previous gradient update is\n",
    "> retained and combined with the current one.\n",
    "\n",
    "\n",
    "\n"
   ]
  },
  {
   "cell_type": "code",
   "execution_count": 8,
   "id": "7b89187d",
   "metadata": {
    "lines_to_next_cell": 2
   },
   "outputs": [
    {
     "name": "stdout",
     "output_type": "stream",
     "text": [
      "[1,  2000] loss: 2.260\n",
      "[1,  4000] loss: 1.922\n",
      "[1,  6000] loss: 1.733\n",
      "[1,  8000] loss: 1.629\n",
      "[1, 10000] loss: 1.566\n",
      "[1, 12000] loss: 1.497\n",
      "[2,  2000] loss: 1.440\n",
      "[2,  4000] loss: 1.382\n",
      "[2,  6000] loss: 1.370\n",
      "[2,  8000] loss: 1.334\n",
      "[2, 10000] loss: 1.307\n",
      "[2, 12000] loss: 1.298\n",
      "Finished Training\n"
     ]
    }
   ],
   "source": [
    "\n",
    "import torch.optim as optim\n",
    "\n",
    "loss_fn = nn.CrossEntropyLoss()\n",
    "\n",
    "optimizer = optim.SGD(net.parameters(), lr = 0.001, momentum = 0.9)\n",
    "\n",
    "\n",
    "\n",
    "for epoch in range(2):\n",
    "    running_loss = 0.0\n",
    "    for i, data in enumerate(trainloader, 0):\n",
    "        inputs, lables = data\n",
    "        inputs, lables = inputs.to(device), lables.to(device)\n",
    "        optimizer.zero_grad()\n",
    "        outputs = net(inputs)\n",
    "        loss = loss_fn(outputs, lables)\n",
    "        loss.backward()\n",
    "        optimizer.step()\n",
    "\n",
    "        # print statistics\n",
    "        running_loss += loss.item()\n",
    "        if i % 2000 == 1999:    # print every 2000 mini-batches\n",
    "            print(f'[{epoch + 1}, {i + 1:5d}] loss: {running_loss / 2000:.3f}')\n",
    "            running_loss = 0.0\n",
    "\n",
    "print('Finished Training')\n",
    "\n",
    "\n",
    "\n",
    "PATH = \"./Classifer_net.pth\"\n",
    "torch.save(net.state_dict(), PATH)\n",
    "\n"
   ]
  },
  {
   "cell_type": "code",
   "execution_count": 13,
   "id": "5f68981b",
   "metadata": {
    "lines_to_next_cell": 2
   },
   "outputs": [
    {
     "data": {
      "image/png": "[encoded data removed]",
      "text/plain": [
       "<Figure size 640x480 with 1 Axes>"
      ]
     },
     "metadata": {},
     "output_type": "display_data"
    },
    {
     "name": "stdout",
     "output_type": "stream",
     "text": [
      "GroundTruth:  cat   ship  ship  plane\n"
     ]
    }
   ],
   "source": [
    "dataiter = iter(testloader)\n",
    "images, labels = next(dataiter)\n",
    "\n",
    "# print images\n",
    "imshow(torchvision.utils.make_grid(images))\n",
    "print('GroundTruth: ', ' '.join(f'{classes[labels[j]]:5s}' for j in range(4)))\n"
   ]
  },
  {
   "cell_type": "code",
   "execution_count": 14,
   "id": "a81e50e3",
   "metadata": {
    "lines_to_next_cell": 2
   },
   "outputs": [
    {
     "name": "stdout",
     "output_type": "stream",
     "text": [
      "Predicted:  cat   car   plane plane\n"
     ]
    }
   ],
   "source": [
    "\n",
    "load_net = Classifier()\n",
    "load_net.load_state_dict(torch.load(PATH, weights_only=True))\n",
    "\n",
    "\n",
    "outputs = load_net(images)\n",
    "\n",
    "\n",
    "_, predicted = torch.max(outputs, 1)\n",
    "\n",
    "print('Predicted: ', ' '.join(f'{classes[predicted[j]]:5s}'\n",
    "                              for j in range(4)))\n",
    "\n"
   ]
  },
  {
   "cell_type": "code",
   "execution_count": 15,
   "id": "3e4eca0e",
   "metadata": {
    "lines_to_next_cell": 0
   },
   "outputs": [
    {
     "name": "stdout",
     "output_type": "stream",
     "text": [
      "torch.Size([3, 4, 5, 6])\n",
      "torch.Size([3, 4, 5, 6])\n",
      "3\n",
      "4\n",
      "5\n",
      "6\n"
     ]
    }
   ],
   "source": [
    "\n",
    "tensor_test = torch.rand(3,4,5,6)\n",
    "\n",
    "#print(tensor_test)\n",
    "\n",
    "print(tensor_test.shape)\n",
    "\n",
    "print(tensor_test.size())\n",
    "print(tensor_test.size(0))\n",
    "print(tensor_test.size(1))\n",
    "print(tensor_test.size(2))\n",
    "print(tensor_test.size(3))\n"
   ]
  },
  {
   "cell_type": "markdown",
   "id": "18601d89",
   "metadata": {},
   "source": [
    "\n",
    "\n"
   ]
  },
  {
   "cell_type": "code",
   "execution_count": null,
   "id": "20005ddd",
   "metadata": {
    "lines_to_next_cell": 0
   },
   "outputs": [],
   "source": [
    "\n",
    "correct = 0\n",
    "total = 0\n",
    "# since we're not training, we don't need to calculate the gradients for our outputs\n",
    "with torch.no_grad():\n",
    "    for data in testloader:\n",
    "        images, labels = data\n",
    "        # calculate outputs by running images through the network\n",
    "        outputs = load_net(images)\n",
    "        # the class with the highest energy is what we choose as prediction\n",
    "        _, predicted = torch.max(outputs, 1)\n",
    "        # number of samples in the batch\n",
    "        # Returns the size of the `self` tensor. If `dim` is not specified, \n",
    "        # the returned value is a `torch.Size`, a subclass of `tuple`.\n",
    "        # If `dim` is specified, returns an int holding the size of that dimension.\n",
    "\n",
    "        #print(f\"labels: \\n { labels.shape } \\n\")\n",
    "        total += labels.size(0)\n",
    "        correct += (predicted == labels).sum().item()\n",
    "\n",
    "print(f'Accuracy of the network on the 10000 test images: {100 * correct // total} %')\n",
    "\n",
    "\n"
   ]
  },
  {
   "cell_type": "markdown",
   "id": "a4f0d68e",
   "metadata": {},
   "source": []
  }
 ],
 "metadata": {
  "kernelspec": {
   "display_name": "torch1.3",
   "language": "python",
   "name": "torch1.3"
  },
  "language_info": {
   "codemirror_mode": {
    "name": "ipython",
    "version": 3
   },
   "file_extension": ".py",
   "mimetype": "text/x-python",
   "name": "python",
   "nbconvert_exporter": "python",
   "pygments_lexer": "ipython3",
   "version": "3.9.23"
  }
 },
 "nbformat": 4,
 "nbformat_minor": 5
}
